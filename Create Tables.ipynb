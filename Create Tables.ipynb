{
 "cells": [
  {
   "cell_type": "code",
   "execution_count": 6,
   "metadata": {},
   "outputs": [
    {
     "name": "stdout",
     "output_type": "stream",
     "text": [
      "1.3.18\n"
     ]
    }
   ],
   "source": [
    "# import pandas\n",
    "import pandas as pd\n",
    "import sqlalchemy\n",
    "print(sqlalchemy.__version__)"
   ]
  },
  {
   "cell_type": "code",
   "execution_count": 2,
   "metadata": {},
   "outputs": [],
   "source": [
    "# read clicks table into pandas dataframe\n",
    "clicks_df = pd.read_parquet('ds_clicks.parquet.gzip')"
   ]
  },
  {
   "cell_type": "code",
   "execution_count": 3,
   "metadata": {},
   "outputs": [],
   "source": [
    "# read clicks table into pandas dataframe\n",
    "leads_df = pd.read_parquet('ds_leads.parquet.gzip')"
   ]
  },
  {
   "cell_type": "code",
   "execution_count": 4,
   "metadata": {},
   "outputs": [],
   "source": [
    "# read offers into pandas dataframe\n",
    "offers_df = pd.read_parquet('ds_offers.parquet.gzip')"
   ]
  },
  {
   "cell_type": "markdown",
   "metadata": {},
   "source": [
    "### Create a connection to the database\n"
   ]
  },
  {
   "cell_type": "code",
   "execution_count": 5,
   "metadata": {},
   "outputs": [],
   "source": [
    "import sqlite3\n",
    "from sqlalchemy import create_engine\n",
    "\n",
    "\n",
    "#Connecting to sqlite\n",
    "conn = sqlite3.connect('loan_offers.db')\n",
    "\n",
    "#Creating a cursor object using the cursor() method\n",
    "cursor = conn.cursor()\n"
   ]
  },
  {
   "cell_type": "markdown",
   "metadata": {},
   "source": [
    "### Create clicks table using sqlite3"
   ]
  },
  {
   "cell_type": "code",
   "execution_count": 6,
   "metadata": {},
   "outputs": [
    {
     "data": {
      "text/html": [
       "<div>\n",
       "<style scoped>\n",
       "    .dataframe tbody tr th:only-of-type {\n",
       "        vertical-align: middle;\n",
       "    }\n",
       "\n",
       "    .dataframe tbody tr th {\n",
       "        vertical-align: top;\n",
       "    }\n",
       "\n",
       "    .dataframe thead th {\n",
       "        text-align: right;\n",
       "    }\n",
       "</style>\n",
       "<table border=\"1\" class=\"dataframe\">\n",
       "  <thead>\n",
       "    <tr style=\"text-align: right;\">\n",
       "      <th></th>\n",
       "      <th>offer_id</th>\n",
       "      <th>clicked_at</th>\n",
       "    </tr>\n",
       "  </thead>\n",
       "  <tbody>\n",
       "    <tr>\n",
       "      <th>0</th>\n",
       "      <td>810116813</td>\n",
       "      <td>2021-03-23 02:01:48.339</td>\n",
       "    </tr>\n",
       "  </tbody>\n",
       "</table>\n",
       "</div>"
      ],
      "text/plain": [
       "    offer_id              clicked_at\n",
       "0  810116813 2021-03-23 02:01:48.339"
      ]
     },
     "execution_count": 6,
     "metadata": {},
     "output_type": "execute_result"
    }
   ],
   "source": [
    "clicks_df.head(1) # display first row"
   ]
  },
  {
   "cell_type": "code",
   "execution_count": 7,
   "metadata": {},
   "outputs": [
    {
     "data": {
      "text/plain": [
       "(9320, 2)"
      ]
     },
     "execution_count": 7,
     "metadata": {},
     "output_type": "execute_result"
    }
   ],
   "source": [
    "clicks_df.shape # display the shape"
   ]
  },
  {
   "cell_type": "code",
   "execution_count": 8,
   "metadata": {},
   "outputs": [
    {
     "name": "stdout",
     "output_type": "stream",
     "text": [
      "Table created successfully........\n"
     ]
    }
   ],
   "source": [
    "cursor.execute(\"DROP TABLE IF EXISTS clicks\")\n",
    "\n",
    "clicks_table ='''CREATE TABLE clicks(\n",
    "   offer_id int PRIMARY KEY NOT NULL,\n",
    "   clicked_at DateTime\n",
    ")'''\n",
    "cursor.execute(clicks_table)\n",
    "\n",
    "print(\"Table created successfully........\")\n",
    "\n",
    "# Commit the changes in the database\n",
    "conn.commit()"
   ]
  },
  {
   "cell_type": "code",
   "execution_count": 9,
   "metadata": {},
   "outputs": [
    {
     "name": "stdout",
     "output_type": "stream",
     "text": [
      "Records inserted........\n"
     ]
    }
   ],
   "source": [
    "# INSERT records into the database.\n",
    "for index, row in clicks_df.iterrows():\n",
    "    insert = f\"INSERT INTO clicks (offer_id, clicked_at) VALUES('{row.offer_id}', '{row.clicked_at}')\"\n",
    "    cursor.execute(insert)\n",
    "\n",
    "    \n",
    "conn.commit()\n",
    "print(\"Records inserted........\")\n",
    "\n",
    "# Closing the connection"
   ]
  },
  {
   "cell_type": "code",
   "execution_count": 10,
   "metadata": {},
   "outputs": [
    {
     "name": "stdout",
     "output_type": "stream",
     "text": [
      "(810116813, '2021-03-23 02:01:48.339000')\n"
     ]
    }
   ],
   "source": [
    "#Retrieving data\n",
    "cursor.execute('''SELECT * from clicks''')\n",
    "\n",
    "#Fetching 1st row from the table\n",
    "result = cursor.fetchone();\n",
    "print(result)\n"
   ]
  },
  {
   "cell_type": "markdown",
   "metadata": {},
   "source": [
    "### Create leads table using sqlite3"
   ]
  },
  {
   "cell_type": "code",
   "execution_count": 11,
   "metadata": {},
   "outputs": [
    {
     "data": {
      "text/html": [
       "<div>\n",
       "<style scoped>\n",
       "    .dataframe tbody tr th:only-of-type {\n",
       "        vertical-align: middle;\n",
       "    }\n",
       "\n",
       "    .dataframe tbody tr th {\n",
       "        vertical-align: top;\n",
       "    }\n",
       "\n",
       "    .dataframe thead th {\n",
       "        text-align: right;\n",
       "    }\n",
       "</style>\n",
       "<table border=\"1\" class=\"dataframe\">\n",
       "  <thead>\n",
       "    <tr style=\"text-align: right;\">\n",
       "      <th></th>\n",
       "      <th>lead_uuid</th>\n",
       "      <th>requested</th>\n",
       "      <th>loan_purpose</th>\n",
       "      <th>credit</th>\n",
       "      <th>annual_income</th>\n",
       "    </tr>\n",
       "  </thead>\n",
       "  <tbody>\n",
       "    <tr>\n",
       "      <th>0</th>\n",
       "      <td>004cfd11-4d3f-4ba2-ad7d-0c0bb215e1f6</td>\n",
       "      <td>700.0</td>\n",
       "      <td>debt_consolidation</td>\n",
       "      <td>poor</td>\n",
       "      <td>24000.0</td>\n",
       "    </tr>\n",
       "  </tbody>\n",
       "</table>\n",
       "</div>"
      ],
      "text/plain": [
       "                              lead_uuid  requested        loan_purpose credit  \\\n",
       "0  004cfd11-4d3f-4ba2-ad7d-0c0bb215e1f6      700.0  debt_consolidation   poor   \n",
       "\n",
       "   annual_income  \n",
       "0        24000.0  "
      ]
     },
     "execution_count": 11,
     "metadata": {},
     "output_type": "execute_result"
    }
   ],
   "source": [
    "leads_df.head(1) # display first row"
   ]
  },
  {
   "cell_type": "code",
   "execution_count": 12,
   "metadata": {},
   "outputs": [
    {
     "name": "stdout",
     "output_type": "stream",
     "text": [
      "Table created successfully........\n"
     ]
    }
   ],
   "source": [
    "cursor.execute(\"DROP TABLE IF EXISTS leads\")\n",
    "\n",
    "leads_table ='''CREATE TABLE leads(\n",
    "   lead_uuid varchar PRIMARY KEY NOT NULL,\n",
    "   requested float,\n",
    "   loan_purpose text,\n",
    "   credit text,\n",
    "   annual_income float\n",
    ")'''\n",
    "cursor.execute(leads_table)\n",
    "\n",
    "print(\"Table created successfully........\")\n",
    "\n",
    "# Commit the changes in the database\n",
    "conn.commit()"
   ]
  },
  {
   "cell_type": "code",
   "execution_count": 13,
   "metadata": {},
   "outputs": [
    {
     "name": "stdout",
     "output_type": "stream",
     "text": [
      "Records inserted........\n"
     ]
    }
   ],
   "source": [
    "# INSERT a records into the database.\n",
    "for index, row in leads_df.iterrows():\n",
    "    insert = f\"INSERT INTO leads (lead_uuid, requested, loan_purpose, credit, annual_income)\\\n",
    "    VALUES('{row.lead_uuid}', '{row.requested}','{row.loan_purpose}','{row.credit}','{row.annual_income}')\"\n",
    "    cursor.execute(insert)\n",
    "\n",
    "    \n",
    "conn.commit()\n",
    "print(\"Records inserted........\")\n",
    "\n",
    "# Closing the connection"
   ]
  },
  {
   "cell_type": "code",
   "execution_count": 14,
   "metadata": {},
   "outputs": [
    {
     "name": "stdout",
     "output_type": "stream",
     "text": [
      "('004cfd11-4d3f-4ba2-ad7d-0c0bb215e1f6', 700.0, 'debt_consolidation', 'poor', 24000.0)\n"
     ]
    }
   ],
   "source": [
    "#Retrieving data\n",
    "cursor.execute('''SELECT * from leads''')\n",
    "\n",
    "#Fetching 1st row from the table\n",
    "result = cursor.fetchone();\n",
    "print(result)\n",
    "\n",
    "#Fetching 1st row from the table\n",
    "# result = cursor.fetchall();\n",
    "# print(result)"
   ]
  },
  {
   "cell_type": "markdown",
   "metadata": {},
   "source": [
    "### Create offers table using sqlite3"
   ]
  },
  {
   "cell_type": "code",
   "execution_count": 15,
   "metadata": {},
   "outputs": [
    {
     "data": {
      "text/html": [
       "<div>\n",
       "<style scoped>\n",
       "    .dataframe tbody tr th:only-of-type {\n",
       "        vertical-align: middle;\n",
       "    }\n",
       "\n",
       "    .dataframe tbody tr th {\n",
       "        vertical-align: top;\n",
       "    }\n",
       "\n",
       "    .dataframe thead th {\n",
       "        text-align: right;\n",
       "    }\n",
       "</style>\n",
       "<table border=\"1\" class=\"dataframe\">\n",
       "  <thead>\n",
       "    <tr style=\"text-align: right;\">\n",
       "      <th></th>\n",
       "      <th>lead_uuid</th>\n",
       "      <th>offer_id</th>\n",
       "      <th>apr</th>\n",
       "      <th>lender_id</th>\n",
       "    </tr>\n",
       "  </thead>\n",
       "  <tbody>\n",
       "    <tr>\n",
       "      <th>33</th>\n",
       "      <td>ae2d5046-a7c7-44fe-b6f4-cde3d8bf29e2</td>\n",
       "      <td>810117850</td>\n",
       "      <td>199.0</td>\n",
       "      <td>1103</td>\n",
       "    </tr>\n",
       "  </tbody>\n",
       "</table>\n",
       "</div>"
      ],
      "text/plain": [
       "                               lead_uuid   offer_id    apr  lender_id\n",
       "33  ae2d5046-a7c7-44fe-b6f4-cde3d8bf29e2  810117850  199.0       1103"
      ]
     },
     "execution_count": 15,
     "metadata": {},
     "output_type": "execute_result"
    }
   ],
   "source": [
    "offers_df.head(1) # Display first row"
   ]
  },
  {
   "cell_type": "code",
   "execution_count": 16,
   "metadata": {},
   "outputs": [
    {
     "name": "stdout",
     "output_type": "stream",
     "text": [
      "Table created successfully........\n"
     ]
    }
   ],
   "source": [
    "cursor.execute(\"DROP TABLE IF EXISTS offers\")\n",
    "\n",
    "offers_table ='''CREATE TABLE offers(\n",
    "   offer_id int PRIMARY KEY NOT NULL,\n",
    "   lead_uuid varchar,\n",
    "   apr float,\n",
    "   lender_id int\n",
    ")'''\n",
    "cursor.execute(offers_table)\n",
    "\n",
    "print(\"Table created successfully........\")\n",
    "\n",
    "# Commit your changes in the database\n",
    "conn.commit()"
   ]
  },
  {
   "cell_type": "code",
   "execution_count": 17,
   "metadata": {},
   "outputs": [
    {
     "name": "stdout",
     "output_type": "stream",
     "text": [
      "Records inserted........\n"
     ]
    }
   ],
   "source": [
    "# INSERT records into the database.\n",
    "for index, row in offers_df.iterrows():\n",
    "    insert = f\"INSERT INTO offers (offer_id,lead_uuid, apr, lender_id)\\\n",
    "    VALUES('{row.offer_id}', '{row.lead_uuid}','{row.apr}','{row.lender_id}')\"\n",
    "    cursor.execute(insert)\n",
    "\n",
    "    \n",
    "conn.commit()\n",
    "print(\"Records inserted........\")\n",
    "\n",
    "# Closing the connection"
   ]
  },
  {
   "cell_type": "code",
   "execution_count": 18,
   "metadata": {},
   "outputs": [
    {
     "name": "stdout",
     "output_type": "stream",
     "text": [
      "(810117850, 'ae2d5046-a7c7-44fe-b6f4-cde3d8bf29e2', 199.0, 1103)\n"
     ]
    }
   ],
   "source": [
    "#Retrieving data\n",
    "cursor.execute('''SELECT * from offers''')\n",
    "\n",
    "#Fetching 1st row from the table\n",
    "result = cursor.fetchone();\n",
    "print(result)\n",
    "\n",
    "#Fetching 1st row from the table\n",
    "# result = cursor.fetchall();\n",
    "# print(result)"
   ]
  },
  {
   "cell_type": "code",
   "execution_count": 20,
   "metadata": {},
   "outputs": [
    {
     "data": {
      "text/html": [
       "<div>\n",
       "<style scoped>\n",
       "    .dataframe tbody tr th:only-of-type {\n",
       "        vertical-align: middle;\n",
       "    }\n",
       "\n",
       "    .dataframe tbody tr th {\n",
       "        vertical-align: top;\n",
       "    }\n",
       "\n",
       "    .dataframe thead th {\n",
       "        text-align: right;\n",
       "    }\n",
       "</style>\n",
       "<table border=\"1\" class=\"dataframe\">\n",
       "  <thead>\n",
       "    <tr style=\"text-align: right;\">\n",
       "      <th></th>\n",
       "      <th>offer_id</th>\n",
       "      <th>lead_uuid</th>\n",
       "      <th>apr</th>\n",
       "      <th>lender_id</th>\n",
       "    </tr>\n",
       "  </thead>\n",
       "  <tbody>\n",
       "    <tr>\n",
       "      <th>0</th>\n",
       "      <td>810117850</td>\n",
       "      <td>ae2d5046-a7c7-44fe-b6f4-cde3d8bf29e2</td>\n",
       "      <td>199.00</td>\n",
       "      <td>1103</td>\n",
       "    </tr>\n",
       "    <tr>\n",
       "      <th>1</th>\n",
       "      <td>810119030</td>\n",
       "      <td>b12fbb06-1402-4de3-a91f-fb6360ff85e4</td>\n",
       "      <td>249.00</td>\n",
       "      <td>1103</td>\n",
       "    </tr>\n",
       "    <tr>\n",
       "      <th>2</th>\n",
       "      <td>810122970</td>\n",
       "      <td>a119a3db-ab14-46fc-acd1-35cf20dec1ec</td>\n",
       "      <td>249.00</td>\n",
       "      <td>1103</td>\n",
       "    </tr>\n",
       "    <tr>\n",
       "      <th>3</th>\n",
       "      <td>810124218</td>\n",
       "      <td>3166d6bd-1c79-44c0-867c-889afd35990c</td>\n",
       "      <td>17.69</td>\n",
       "      <td>240</td>\n",
       "    </tr>\n",
       "    <tr>\n",
       "      <th>4</th>\n",
       "      <td>810124220</td>\n",
       "      <td>3166d6bd-1c79-44c0-867c-889afd35990c</td>\n",
       "      <td>17.19</td>\n",
       "      <td>240</td>\n",
       "    </tr>\n",
       "  </tbody>\n",
       "</table>\n",
       "</div>"
      ],
      "text/plain": [
       "    offer_id                             lead_uuid     apr  lender_id\n",
       "0  810117850  ae2d5046-a7c7-44fe-b6f4-cde3d8bf29e2  199.00       1103\n",
       "1  810119030  b12fbb06-1402-4de3-a91f-fb6360ff85e4  249.00       1103\n",
       "2  810122970  a119a3db-ab14-46fc-acd1-35cf20dec1ec  249.00       1103\n",
       "3  810124218  3166d6bd-1c79-44c0-867c-889afd35990c   17.69        240\n",
       "4  810124220  3166d6bd-1c79-44c0-867c-889afd35990c   17.19        240"
      ]
     },
     "execution_count": 20,
     "metadata": {},
     "output_type": "execute_result"
    }
   ],
   "source": [
    "# load data from database\n",
    "engine = create_engine('sqlite:///loan_offers.db')\n",
    "# read offers table\n",
    "offers = pd.read_sql_table(\"offers\", con=engine)\n",
    "offers.head()"
   ]
  },
  {
   "cell_type": "code",
   "execution_count": 21,
   "metadata": {},
   "outputs": [
    {
     "data": {
      "text/plain": [
       "458939"
      ]
     },
     "execution_count": 21,
     "metadata": {},
     "output_type": "execute_result"
    }
   ],
   "source": [
    "# display length of offers table\n",
    "len(offers) "
   ]
  },
  {
   "cell_type": "code",
   "execution_count": 22,
   "metadata": {},
   "outputs": [
    {
     "data": {
      "text/plain": [
       "458939"
      ]
     },
     "execution_count": 22,
     "metadata": {},
     "output_type": "execute_result"
    }
   ],
   "source": [
    "# display unique values of \"offer_id\"\n",
    "offers['offer_id'].nunique()"
   ]
  },
  {
   "cell_type": "code",
   "execution_count": 23,
   "metadata": {},
   "outputs": [
    {
     "data": {
      "text/html": [
       "<div>\n",
       "<style scoped>\n",
       "    .dataframe tbody tr th:only-of-type {\n",
       "        vertical-align: middle;\n",
       "    }\n",
       "\n",
       "    .dataframe tbody tr th {\n",
       "        vertical-align: top;\n",
       "    }\n",
       "\n",
       "    .dataframe thead th {\n",
       "        text-align: right;\n",
       "    }\n",
       "</style>\n",
       "<table border=\"1\" class=\"dataframe\">\n",
       "  <thead>\n",
       "    <tr style=\"text-align: right;\">\n",
       "      <th></th>\n",
       "      <th>offer_id</th>\n",
       "      <th>clicked_at</th>\n",
       "    </tr>\n",
       "  </thead>\n",
       "  <tbody>\n",
       "    <tr>\n",
       "      <th>0</th>\n",
       "      <td>810116813</td>\n",
       "      <td>2021-03-23 02:01:48.339</td>\n",
       "    </tr>\n",
       "    <tr>\n",
       "      <th>1</th>\n",
       "      <td>810118339</td>\n",
       "      <td>2021-03-23 02:01:14.135</td>\n",
       "    </tr>\n",
       "    <tr>\n",
       "      <th>2</th>\n",
       "      <td>810132429</td>\n",
       "      <td>2021-03-23 02:46:49.753</td>\n",
       "    </tr>\n",
       "    <tr>\n",
       "      <th>3</th>\n",
       "      <td>810152009</td>\n",
       "      <td>2021-03-23 04:46:19.662</td>\n",
       "    </tr>\n",
       "    <tr>\n",
       "      <th>4</th>\n",
       "      <td>810177207</td>\n",
       "      <td>2021-03-23 08:44:04.494</td>\n",
       "    </tr>\n",
       "  </tbody>\n",
       "</table>\n",
       "</div>"
      ],
      "text/plain": [
       "    offer_id              clicked_at\n",
       "0  810116813 2021-03-23 02:01:48.339\n",
       "1  810118339 2021-03-23 02:01:14.135\n",
       "2  810132429 2021-03-23 02:46:49.753\n",
       "3  810152009 2021-03-23 04:46:19.662\n",
       "4  810177207 2021-03-23 08:44:04.494"
      ]
     },
     "execution_count": 23,
     "metadata": {},
     "output_type": "execute_result"
    }
   ],
   "source": [
    "# read clicks table\n",
    "clicks = pd.read_sql_table(\"clicks\", con=engine)\n",
    "clicks.head()"
   ]
  },
  {
   "cell_type": "code",
   "execution_count": 24,
   "metadata": {},
   "outputs": [
    {
     "data": {
      "text/html": [
       "<div>\n",
       "<style scoped>\n",
       "    .dataframe tbody tr th:only-of-type {\n",
       "        vertical-align: middle;\n",
       "    }\n",
       "\n",
       "    .dataframe tbody tr th {\n",
       "        vertical-align: top;\n",
       "    }\n",
       "\n",
       "    .dataframe thead th {\n",
       "        text-align: right;\n",
       "    }\n",
       "</style>\n",
       "<table border=\"1\" class=\"dataframe\">\n",
       "  <thead>\n",
       "    <tr style=\"text-align: right;\">\n",
       "      <th></th>\n",
       "      <th>lead_uuid</th>\n",
       "      <th>requested</th>\n",
       "      <th>loan_purpose</th>\n",
       "      <th>credit</th>\n",
       "      <th>annual_income</th>\n",
       "    </tr>\n",
       "  </thead>\n",
       "  <tbody>\n",
       "    <tr>\n",
       "      <th>0</th>\n",
       "      <td>004cfd11-4d3f-4ba2-ad7d-0c0bb215e1f6</td>\n",
       "      <td>700.0</td>\n",
       "      <td>debt_consolidation</td>\n",
       "      <td>poor</td>\n",
       "      <td>24000.0</td>\n",
       "    </tr>\n",
       "    <tr>\n",
       "      <th>1</th>\n",
       "      <td>00aa9e4d-52c9-4240-864d-442646a422cc</td>\n",
       "      <td>1500.0</td>\n",
       "      <td>auto</td>\n",
       "      <td>poor</td>\n",
       "      <td>60000.0</td>\n",
       "    </tr>\n",
       "    <tr>\n",
       "      <th>2</th>\n",
       "      <td>00b02fa9-84cb-4219-abe8-29a35250a5d7</td>\n",
       "      <td>1000.0</td>\n",
       "      <td>other</td>\n",
       "      <td>good</td>\n",
       "      <td>60000.0</td>\n",
       "    </tr>\n",
       "    <tr>\n",
       "      <th>3</th>\n",
       "      <td>00e1153a-32e8-4cc3-9b3f-fe395ba855e2</td>\n",
       "      <td>1000.0</td>\n",
       "      <td>debt_consolidation</td>\n",
       "      <td>fair</td>\n",
       "      <td>36000.0</td>\n",
       "    </tr>\n",
       "    <tr>\n",
       "      <th>4</th>\n",
       "      <td>011f9ddb-398a-4488-b704-ba49743949ab</td>\n",
       "      <td>3000.0</td>\n",
       "      <td>debt_consolidation</td>\n",
       "      <td>fair</td>\n",
       "      <td>79200.0</td>\n",
       "    </tr>\n",
       "  </tbody>\n",
       "</table>\n",
       "</div>"
      ],
      "text/plain": [
       "                              lead_uuid  requested        loan_purpose credit  \\\n",
       "0  004cfd11-4d3f-4ba2-ad7d-0c0bb215e1f6      700.0  debt_consolidation   poor   \n",
       "1  00aa9e4d-52c9-4240-864d-442646a422cc     1500.0                auto   poor   \n",
       "2  00b02fa9-84cb-4219-abe8-29a35250a5d7     1000.0               other   good   \n",
       "3  00e1153a-32e8-4cc3-9b3f-fe395ba855e2     1000.0  debt_consolidation   fair   \n",
       "4  011f9ddb-398a-4488-b704-ba49743949ab     3000.0  debt_consolidation   fair   \n",
       "\n",
       "   annual_income  \n",
       "0        24000.0  \n",
       "1        60000.0  \n",
       "2        60000.0  \n",
       "3        36000.0  \n",
       "4        79200.0  "
      ]
     },
     "execution_count": 24,
     "metadata": {},
     "output_type": "execute_result"
    }
   ],
   "source": [
    "# read leads table\n",
    "leads = pd.read_sql_table(\"leads\", con=engine)\n",
    "leads.head()"
   ]
  },
  {
   "cell_type": "code",
   "execution_count": 25,
   "metadata": {},
   "outputs": [
    {
     "data": {
      "text/plain": [
       "100000"
      ]
     },
     "execution_count": 25,
     "metadata": {},
     "output_type": "execute_result"
    }
   ],
   "source": [
    "len(leads)"
   ]
  },
  {
   "cell_type": "markdown",
   "metadata": {},
   "source": [
    "Our goal is to build a machine learing model to predict whether an offer is going to be clicks. So we will use the offers table left to left join with leads table - this will return all rows from the offers table, and the matching rows from the leads table. \n",
    "\n",
    "After left join is done, we will then left join again with the clicks table."
   ]
  },
  {
   "cell_type": "code",
   "execution_count": 26,
   "metadata": {},
   "outputs": [],
   "source": [
    "# Use offers to left join with leads\n",
    "merged_df = offers.merge(leads, on='lead_uuid', how='left')"
   ]
  },
  {
   "cell_type": "code",
   "execution_count": 27,
   "metadata": {},
   "outputs": [],
   "source": [
    "# Leften join again with clicks table\n",
    "merged_df = merged_df.merge(clicks, on='offer_id', how='left')"
   ]
  },
  {
   "cell_type": "code",
   "execution_count": 33,
   "metadata": {},
   "outputs": [
    {
     "data": {
      "text/html": [
       "<div>\n",
       "<style scoped>\n",
       "    .dataframe tbody tr th:only-of-type {\n",
       "        vertical-align: middle;\n",
       "    }\n",
       "\n",
       "    .dataframe tbody tr th {\n",
       "        vertical-align: top;\n",
       "    }\n",
       "\n",
       "    .dataframe thead th {\n",
       "        text-align: right;\n",
       "    }\n",
       "</style>\n",
       "<table border=\"1\" class=\"dataframe\">\n",
       "  <thead>\n",
       "    <tr style=\"text-align: right;\">\n",
       "      <th></th>\n",
       "      <th>offer_id</th>\n",
       "      <th>lead_uuid</th>\n",
       "      <th>apr</th>\n",
       "      <th>lender_id</th>\n",
       "      <th>requested</th>\n",
       "      <th>loan_purpose</th>\n",
       "      <th>credit</th>\n",
       "      <th>annual_income</th>\n",
       "      <th>clicked_at</th>\n",
       "    </tr>\n",
       "  </thead>\n",
       "  <tbody>\n",
       "    <tr>\n",
       "      <th>166113</th>\n",
       "      <td>811411089</td>\n",
       "      <td>06074d42-3482-4645-a9cb-aaa3ccababb3</td>\n",
       "      <td>28.13</td>\n",
       "      <td>262</td>\n",
       "      <td>18000.0</td>\n",
       "      <td>credit_card_refi</td>\n",
       "      <td>excellent</td>\n",
       "      <td>74000.0</td>\n",
       "      <td>NaT</td>\n",
       "    </tr>\n",
       "    <tr>\n",
       "      <th>317301</th>\n",
       "      <td>811576316</td>\n",
       "      <td>d12cb7a3-f5b3-4a42-9f4a-38d3234b2eca</td>\n",
       "      <td>149.00</td>\n",
       "      <td>1777</td>\n",
       "      <td>1000.0</td>\n",
       "      <td>debt_consolidation</td>\n",
       "      <td>poor</td>\n",
       "      <td>27000.0</td>\n",
       "      <td>NaT</td>\n",
       "    </tr>\n",
       "    <tr>\n",
       "      <th>414214</th>\n",
       "      <td>812563683</td>\n",
       "      <td>3e5fd35a-94f9-4e96-aada-8a43a74380f1</td>\n",
       "      <td>149.00</td>\n",
       "      <td>1777</td>\n",
       "      <td>2000.0</td>\n",
       "      <td>auto</td>\n",
       "      <td>fair</td>\n",
       "      <td>42000.0</td>\n",
       "      <td>NaT</td>\n",
       "    </tr>\n",
       "    <tr>\n",
       "      <th>458541</th>\n",
       "      <td>813041194</td>\n",
       "      <td>c83a4487-b259-45d2-8b33-fc1c1582622d</td>\n",
       "      <td>35.99</td>\n",
       "      <td>327</td>\n",
       "      <td>1000.0</td>\n",
       "      <td>debt_consolidation</td>\n",
       "      <td>excellent</td>\n",
       "      <td>36000.0</td>\n",
       "      <td>NaT</td>\n",
       "    </tr>\n",
       "    <tr>\n",
       "      <th>119662</th>\n",
       "      <td>810926373</td>\n",
       "      <td>305d81b1-eb6c-4f01-b500-396acb0e225b</td>\n",
       "      <td>27.09</td>\n",
       "      <td>363</td>\n",
       "      <td>3000.0</td>\n",
       "      <td>special_occasion</td>\n",
       "      <td>fair</td>\n",
       "      <td>46000.0</td>\n",
       "      <td>NaT</td>\n",
       "    </tr>\n",
       "  </tbody>\n",
       "</table>\n",
       "</div>"
      ],
      "text/plain": [
       "         offer_id                             lead_uuid     apr  lender_id  \\\n",
       "166113  811411089  06074d42-3482-4645-a9cb-aaa3ccababb3   28.13        262   \n",
       "317301  811576316  d12cb7a3-f5b3-4a42-9f4a-38d3234b2eca  149.00       1777   \n",
       "414214  812563683  3e5fd35a-94f9-4e96-aada-8a43a74380f1  149.00       1777   \n",
       "458541  813041194  c83a4487-b259-45d2-8b33-fc1c1582622d   35.99        327   \n",
       "119662  810926373  305d81b1-eb6c-4f01-b500-396acb0e225b   27.09        363   \n",
       "\n",
       "        requested        loan_purpose     credit  annual_income clicked_at  \n",
       "166113    18000.0    credit_card_refi  excellent        74000.0        NaT  \n",
       "317301     1000.0  debt_consolidation       poor        27000.0        NaT  \n",
       "414214     2000.0                auto       fair        42000.0        NaT  \n",
       "458541     1000.0  debt_consolidation  excellent        36000.0        NaT  \n",
       "119662     3000.0    special_occasion       fair        46000.0        NaT  "
      ]
     },
     "execution_count": 33,
     "metadata": {},
     "output_type": "execute_result"
    }
   ],
   "source": [
    "# Dispaly random 5 rows of the new table\n",
    "merged_df.sample(5)"
   ]
  },
  {
   "cell_type": "code",
   "execution_count": 29,
   "metadata": {},
   "outputs": [
    {
     "data": {
      "text/plain": [
       "458939"
      ]
     },
     "execution_count": 29,
     "metadata": {},
     "output_type": "execute_result"
    }
   ],
   "source": [
    "# Display table length\n",
    "len(merged_df)"
   ]
  },
  {
   "cell_type": "markdown",
   "metadata": {},
   "source": [
    "### Save table to database"
   ]
  },
  {
   "cell_type": "code",
   "execution_count": 30,
   "metadata": {},
   "outputs": [],
   "source": [
    "# Save merged table to merged.db\n",
    "engine = create_engine('sqlite:///merged.db', encoding = 'UTF-8')\n",
    "merged_df.to_sql('merged', engine, if_exists='replace', index=False)"
   ]
  },
  {
   "cell_type": "code",
   "execution_count": 32,
   "metadata": {},
   "outputs": [],
   "source": [
    "conn.close()"
   ]
  }
 ],
 "metadata": {
  "kernelspec": {
   "display_name": "Python 3",
   "language": "python",
   "name": "python3"
  },
  "language_info": {
   "codemirror_mode": {
    "name": "ipython",
    "version": 3
   },
   "file_extension": ".py",
   "mimetype": "text/x-python",
   "name": "python",
   "nbconvert_exporter": "python",
   "pygments_lexer": "ipython3",
   "version": "3.8.3"
  }
 },
 "nbformat": 4,
 "nbformat_minor": 4
}
